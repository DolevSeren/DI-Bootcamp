{
  "nbformat": 4,
  "nbformat_minor": 0,
  "metadata": {
    "colab": {
      "provenance": [],
      "toc_visible": true,
      "authorship_tag": "ABX9TyPVjp4UzhaNtHgv8c62YJ2k",
      "include_colab_link": true
    },
    "kernelspec": {
      "name": "python3",
      "display_name": "Python 3"
    },
    "language_info": {
      "name": "python"
    }
  },
  "cells": [
    {
      "cell_type": "markdown",
      "metadata": {
        "id": "view-in-github",
        "colab_type": "text"
      },
      "source": [
        "<a href=\"https://colab.research.google.com/github/DolevSeren/DI-Bootcamp/blob/main/Real-World_Data_Analysis_Scenarios.ipynb\" target=\"_parent\"><img src=\"https://colab.research.google.com/assets/colab-badge.svg\" alt=\"Open In Colab\"/></a>"
      ]
    },
    {
      "cell_type": "code",
      "execution_count": null,
      "metadata": {
        "id": "kNCatNwQbz9w"
      },
      "outputs": [],
      "source": [
        "#The Story\n",
        "# At the start of the COVID-19 pandemic, New York City struggled to understand where outbreaks were happening and which neighborhoods were most at risk.\n",
        "# Instead of relying only on hospital reports, the city used real-time data analysis from various sources to track the spread and take action early."
      ]
    },
    {
      "cell_type": "markdown",
      "source": [],
      "metadata": {
        "id": "Vo8NyssZcLyB"
      }
    },
    {
      "cell_type": "markdown",
      "source": [
        "#Data sources:\n",
        "\n",
        "#PCR test results across all boroughs\n",
        "#COVID case counts by address\n",
        "#Emergency room admissions\n",
        "#Population density, socioeconomic status, and age demographics\n",
        "#Methods used:\n",
        "\n",
        "#Real-time data integration from multiple systems\n",
        "#Geographic Information Systems (GIS) to map \"hot spots\"\n",
        "#Interactive dashboards for decision-makers\n",
        "#Predictive modeling to forecast case surges\n",
        "\n"
      ],
      "metadata": {
        "id": "Bm5xNQiPb-Gm"
      }
    },
    {
      "cell_type": "markdown",
      "source": [
        "#The city identified high-risk neighborhoods before hospitals became overwhelmed\n",
        "#Testing centers and mask distribution sites were deployed quickly in those areas\n",
        "#Early data helped determine where to prioritize vaccine rollout\n",
        "#Within weeks, hospitalization rates in target areas began to drop\n",
        "#Without data analysis: outbreaks would have been detected too late, and responses would be slower and less targeted.\n",
        "#With data analysis: New York made fast, focused decisions that saved lives.\n",
        "\n",
        "\n",
        "\n"
      ],
      "metadata": {
        "id": "X8JTyeoecNCq"
      }
    },
    {
      "cell_type": "markdown",
      "source": [
        "#I chose to present how New York City used data analysis to fight COVID-19. By analyzing real-time health data and mapping outbreak zones, the city could respond faster and smarter—deploying resources exactly where they were needed. This case shows that data analysis isn’t just a business tool—it can be a life-saving strategy in public health."
      ],
      "metadata": {
        "id": "YVB47X5YcXG8"
      }
    }
  ]
}