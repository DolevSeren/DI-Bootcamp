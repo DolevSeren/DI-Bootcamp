{
  "nbformat": 4,
  "nbformat_minor": 0,
  "metadata": {
    "colab": {
      "provenance": [],
      "authorship_tag": "ABX9TyNZTsGwhJ1KmobLLFJ2jqan",
      "include_colab_link": true
    },
    "kernelspec": {
      "name": "python3",
      "display_name": "Python 3"
    },
    "language_info": {
      "name": "python"
    }
  },
  "cells": [
    {
      "cell_type": "markdown",
      "metadata": {
        "id": "view-in-github",
        "colab_type": "text"
      },
      "source": [
        "<a href=\"https://colab.research.google.com/github/DolevSeren/DI-Bootcamp/blob/main/xpexcercise_W3D3.ipynb\" target=\"_parent\"><img src=\"https://colab.research.google.com/assets/colab-badge.svg\" alt=\"Open In Colab\"/></a>"
      ]
    },
    {
      "cell_type": "code",
      "execution_count": 64,
      "metadata": {
        "id": "EyGtB23kbLBT"
      },
      "outputs": [],
      "source": [
        "import pandas as pd\n",
        "\n",
        "df = pd.read_csv(\"/content/sample_data/titanic.csv\")"
      ]
    },
    {
      "cell_type": "code",
      "source": [
        "# בדיקה האם יש שורות כפולות\n",
        "duplicates = df.duplicated()\n",
        "print(f\"Number of duplicate rows: {duplicates.sum()}\")\n",
        "\n",
        "\n"
      ],
      "metadata": {
        "colab": {
          "base_uri": "https://localhost:8080/"
        },
        "id": "6FI4mxdIccMf",
        "outputId": "5f8196c0-f155-47ab-be33-952a06301319"
      },
      "execution_count": 65,
      "outputs": [
        {
          "output_type": "stream",
          "name": "stdout",
          "text": [
            "Number of duplicate rows: 0\n"
          ]
        }
      ]
    },
    {
      "cell_type": "code",
      "source": [
        "# סיכום כמות הערכים החסרים בכל עמודה\n",
        "missing_values = df.isnull().sum()\n",
        "print(missing_values[missing_values > 0])\n"
      ],
      "metadata": {
        "colab": {
          "base_uri": "https://localhost:8080/"
        },
        "collapsed": true,
        "id": "61YlfeJpe3rn",
        "outputId": "4b6ed3dd-2c8b-41ea-ffdb-453d14c94cf9"
      },
      "execution_count": 66,
      "outputs": [
        {
          "output_type": "stream",
          "name": "stdout",
          "text": [
            "Age         177\n",
            "Cabin       687\n",
            "Embarked      2\n",
            "dtype: int64\n"
          ]
        }
      ]
    },
    {
      "cell_type": "code",
      "source": [
        "median_age = df['Age'].median()\n",
        "df['Age'] = df['Age'].fillna(median_age)\n",
        "df['Cabin'] = df['Cabin'].fillna('Unknown')\n",
        "most_frequent = df['Embarked'].mode()[0]\n",
        "df['Embarked'] = df['Embarked'].fillna(most_frequent)\n"
      ],
      "metadata": {
        "collapsed": true,
        "id": "hsC10ttrqKGw"
      },
      "execution_count": 67,
      "outputs": []
    },
    {
      "cell_type": "code",
      "source": [
        "print(df.isnull().sum())\n"
      ],
      "metadata": {
        "colab": {
          "base_uri": "https://localhost:8080/"
        },
        "id": "eYDuqiflqMUH",
        "outputId": "5e8deada-a74d-4af4-af3a-855d495da15c"
      },
      "execution_count": 68,
      "outputs": [
        {
          "output_type": "stream",
          "name": "stdout",
          "text": [
            "PassengerId    0\n",
            "Survived       0\n",
            "Pclass         0\n",
            "Name           0\n",
            "Sex            0\n",
            "Age            0\n",
            "SibSp          0\n",
            "Parch          0\n",
            "Ticket         0\n",
            "Fare           0\n",
            "Cabin          0\n",
            "Embarked       0\n",
            "dtype: int64\n"
          ]
        }
      ]
    },
    {
      "cell_type": "code",
      "source": [
        "df['FamilySize'] = df['SibSp'] + df['Parch'] + 1\n"
      ],
      "metadata": {
        "id": "ceTZ7VcAqZS4"
      },
      "execution_count": 69,
      "outputs": []
    },
    {
      "cell_type": "code",
      "source": [
        "df['Title'] = df['Name'].str.extract(' ([A-Za-z]+)\\.', expand=False)\n"
      ],
      "metadata": {
        "id": "teRPXkAYq18P"
      },
      "execution_count": 70,
      "outputs": []
    },
    {
      "cell_type": "code",
      "source": [
        "df = pd.get_dummies(df, columns=['Sex', 'Embarked', 'Title'], drop_first=True)\n"
      ],
      "metadata": {
        "id": "hDJo5vAEe9Z8"
      },
      "execution_count": 71,
      "outputs": []
    },
    {
      "cell_type": "code",
      "source": [
        "print(df.columns)"
      ],
      "metadata": {
        "colab": {
          "base_uri": "https://localhost:8080/"
        },
        "id": "V3WXv18vfePV",
        "outputId": "93a4c738-2649-46f3-abac-4f77fb0d4061"
      },
      "execution_count": 72,
      "outputs": [
        {
          "output_type": "stream",
          "name": "stdout",
          "text": [
            "Index(['PassengerId', 'Survived', 'Pclass', 'Name', 'Age', 'SibSp', 'Parch',\n",
            "       'Ticket', 'Fare', 'Cabin', 'FamilySize', 'Sex_male', 'Embarked_Q',\n",
            "       'Embarked_S', 'Title_Col', 'Title_Countess', 'Title_Don', 'Title_Dr',\n",
            "       'Title_Jonkheer', 'Title_Lady', 'Title_Major', 'Title_Master',\n",
            "       'Title_Miss', 'Title_Mlle', 'Title_Mme', 'Title_Mr', 'Title_Mrs',\n",
            "       'Title_Ms', 'Title_Rev', 'Title_Sir'],\n",
            "      dtype='object')\n"
          ]
        }
      ]
    },
    {
      "cell_type": "code",
      "source": [
        "# גיל\n",
        "Q1_age = df['Age'].quantile(0.25)\n",
        "Q3_age = df['Age'].quantile(0.75)\n",
        "IQR_age = Q3_age - Q1_age\n",
        "\n",
        "# כרטיס\n",
        "Q1_fare = df['Fare'].quantile(0.25)\n",
        "Q3_fare = df['Fare'].quantile(0.75)\n",
        "IQR_fare = Q3_fare - Q1_fare\n",
        "\n",
        "# גבולות\n",
        "lower_bound_age = Q1_age - 1.5 * IQR_age\n",
        "upper_bound_age = Q3_age + 1.5 * IQR_age\n",
        "\n",
        "lower_bound_fare = Q1_fare - 1.5 * IQR_fare\n",
        "upper_bound_fare = Q3_fare + 1.5 * IQR_fare\n",
        "\n",
        "# כמה חריגים יש\n",
        "outliers_age = df[(df['Age'] < lower_bound_age) | (df['Age'] > upper_bound_age)]\n",
        "outliers_fare = df[(df['Fare'] < lower_bound_fare) | (df['Fare'] > upper_bound_fare)]\n",
        "\n",
        "print(f\"Outliers in Age: {len(outliers_age)}\")\n",
        "print(f\"Outliers in Fare: {len(outliers_fare)}\")\n"
      ],
      "metadata": {
        "colab": {
          "base_uri": "https://localhost:8080/"
        },
        "id": "uaahqEREfidm",
        "outputId": "d37e1af3-fd6f-408a-c408-54972064aa11"
      },
      "execution_count": 73,
      "outputs": [
        {
          "output_type": "stream",
          "name": "stdout",
          "text": [
            "Outliers in Age: 66\n",
            "Outliers in Fare: 116\n"
          ]
        }
      ]
    },
    {
      "cell_type": "code",
      "source": [
        "# גיל - קאפינג\n",
        "df['Age'] = df['Age'].clip(lower=lower_bound_age, upper=upper_bound_age)\n",
        "\n",
        "# מחיר - קאפינג\n",
        "df['Fare'] = df['Fare'].clip(lower=lower_bound_fare, upper=upper_bound_fare)\n"
      ],
      "metadata": {
        "id": "kPKMocR4fnGw"
      },
      "execution_count": 74,
      "outputs": []
    },
    {
      "cell_type": "code",
      "source": [
        "numerical_cols = df.select_dtypes(include=['int64', 'float64']).columns\n",
        "print(numerical_cols)\n",
        "\n"
      ],
      "metadata": {
        "colab": {
          "base_uri": "https://localhost:8080/"
        },
        "id": "NX61mY0BfrMu",
        "outputId": "c41e3d9b-9674-47db-a2ed-46e4a4b6d563"
      },
      "execution_count": 75,
      "outputs": [
        {
          "output_type": "stream",
          "name": "stdout",
          "text": [
            "Index(['PassengerId', 'Survived', 'Pclass', 'Age', 'SibSp', 'Parch', 'Fare',\n",
            "       'FamilySize'],\n",
            "      dtype='object')\n"
          ]
        }
      ]
    },
    {
      "cell_type": "code",
      "source": [
        "from sklearn.preprocessing import MinMaxScaler\n",
        "\n",
        "scaler = MinMaxScaler()\n",
        "df[['Age', 'Fare']] = scaler.fit_transform(df[['Age', 'Fare']])\n",
        "\n"
      ],
      "metadata": {
        "collapsed": true,
        "id": "WNC1-xvXf6Ut"
      },
      "execution_count": 77,
      "outputs": []
    },
    {
      "cell_type": "code",
      "source": [
        "df['HasCabin'] = df['Cabin'].apply(lambda x: 0 if x == 'Unknown' else 1)\n"
      ],
      "metadata": {
        "id": "NPZ9qXWUkCB0"
      },
      "execution_count": 78,
      "outputs": []
    },
    {
      "cell_type": "code",
      "source": [
        "# מחזירים את Age המקורית לצורך בניית קבוצות\n",
        "# נניח min_age=0.42 ו-max_age=80 (תוכל לשנות לפי הנתונים המקוריים שלך)\n",
        "min_age = df['Age'].min()\n",
        "max_age = df['Age'].max()\n",
        "df['Age_original'] = df['Age'] * (max_age - min_age) + min_age\n"
      ],
      "metadata": {
        "id": "pZVAoi_nor3Q"
      },
      "execution_count": 79,
      "outputs": []
    },
    {
      "cell_type": "code",
      "source": [
        "bins = [0, 12, 19, 35, 60, 100]\n",
        "labels = ['Child', 'Teen', 'YoungAdult', 'Adult', 'Senior']\n",
        "df['AgeGroup'] = pd.cut(df['Age_original'], bins=bins, labels=labels, right=False)\n"
      ],
      "metadata": {
        "id": "-8c9buwzruJV"
      },
      "execution_count": 80,
      "outputs": []
    },
    {
      "cell_type": "code",
      "source": [
        "df = pd.get_dummies(df, columns=['AgeGroup'], drop_first=True)\n"
      ],
      "metadata": {
        "id": "F9GatyJPrzKt"
      },
      "execution_count": 81,
      "outputs": []
    },
    {
      "cell_type": "code",
      "source": [],
      "metadata": {
        "id": "obg7Rbsor7kk"
      },
      "execution_count": null,
      "outputs": []
    }
  ]
}